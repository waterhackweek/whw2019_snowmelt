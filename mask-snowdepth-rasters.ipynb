{
 "cells": [
  {
   "cell_type": "code",
   "execution_count": 1,
   "metadata": {},
   "outputs": [],
   "source": [
    "import rasterio as rio\n",
    "import numpy as np\n",
    "from matplotlib import pyplot as plt\n",
    "import rasterio.plot\n",
    "import os"
   ]
  },
  {
   "cell_type": "code",
   "execution_count": 6,
   "metadata": {},
   "outputs": [],
   "source": [
    "# Function to make masks over a time series of raster files\n",
    "def masker(geotiff, mask):\n",
    "    geotiffdata = rio.open(geotiff)\n",
    "    geotiff_array = geotiffdata.read(1)\n",
    "    masked_geotiff = geotiff_array * mask\n",
    "    new_filename = geotiff[:-4] + '_masked.tif'\n",
    "    with rio.open(new_filename,\n",
    "             'w',\n",
    "             driver='GTiff',\n",
    "             height=geotiff_array.shape[0],\n",
    "             width=geotiff_array.shape[1],\n",
    "             count=1,\n",
    "             dtype='float64',\n",
    "             nodata=-9999,\n",
    "             crs=geotiffdata.crs,\n",
    "             transform=geotiffdata.transform) as dst:\n",
    "\n",
    "        dst.write(masked_geotiff, 1)\n",
    "    return None"
   ]
  },
  {
   "cell_type": "code",
   "execution_count": 4,
   "metadata": {},
   "outputs": [],
   "source": [
    "# Load the mask file that defines our watershed boundaries\n",
    "mask = rio.open('scene_30m_mask.tif')\n",
    "masked_array = mask.read(1)"
   ]
  },
  {
   "cell_type": "code",
   "execution_count": 7,
   "metadata": {},
   "outputs": [
    {
     "name": "stderr",
     "output_type": "stream",
     "text": [
      "C:\\Users\\steve\\Anaconda3\\lib\\site-packages\\ipykernel_launcher.py:7: FutureWarning: The value of this property will change in version 1.0. Please see https://github.com/mapbox/rasterio/issues/86 for details.\n",
      "  import sys\n",
      "C:\\Users\\steve\\Anaconda3\\lib\\site-packages\\rasterio\\__init__.py:160: FutureWarning: GDAL-style transforms are deprecated and will not be supported in Rasterio 1.0.\n",
      "  transform = guard_transform(transform)\n"
     ]
    }
   ],
   "source": [
    "# Specify the folder that has our ASO snow depth rasters\n",
    "folder = r'C:/Users/steve/git/whw2019_snowmelt/data/aso/'\n",
    "\n",
    "# Loop through here and find each .tif, then apply the mask and write a new .tif file\n",
    "for _,_,filenames in os.walk(folder):\n",
    "    for file in filenames:\n",
    "        fileExt=os.path.splitext(file)[-1]\n",
    "        if fileExt == '.tif':\n",
    "            masker(folder + file, masked_array)"
   ]
  },
  {
   "cell_type": "code",
   "execution_count": null,
   "metadata": {},
   "outputs": [],
   "source": []
  }
 ],
 "metadata": {
  "kernelspec": {
   "display_name": "Python 3",
   "language": "python",
   "name": "python3"
  },
  "language_info": {
   "codemirror_mode": {
    "name": "ipython",
    "version": 3
   },
   "file_extension": ".py",
   "mimetype": "text/x-python",
   "name": "python",
   "nbconvert_exporter": "python",
   "pygments_lexer": "ipython3",
   "version": "3.6.5"
  }
 },
 "nbformat": 4,
 "nbformat_minor": 2
}
